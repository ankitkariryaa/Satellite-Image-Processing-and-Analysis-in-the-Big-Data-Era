{
 "cells": [
  {
   "cell_type": "markdown",
   "id": "f7a5c8f5",
   "metadata": {},
   "source": [
    "# Satellite Image Processing and Analysis in the Big Data Era (SIPADBE) 2023"
   ]
  },
  {
   "cell_type": "markdown",
   "id": "55eef483",
   "metadata": {},
   "source": [
    "This is an example code, introducing two environments (i.e., TensorFlow and PyTorch) for running deep learning codes on GPU. Moreover, it is intdented to check that you have the right python packages/setup for the course."
   ]
  },
  {
   "cell_type": "markdown",
   "id": "56324ae5",
   "metadata": {},
   "source": [
    "Before that, let's talk about how to open this jupyter notebook. [Jupter](https://jupyter.org/) notebook will be the main working environment through out this course."
   ]
  },
  {
   "cell_type": "markdown",
   "id": "16fd86bd",
   "metadata": {},
   "source": [
    "1. Open command prompt\n",
    "2. Enter ```mamba activate tf```, to activate the right python environment\n",
    "3. Enter ```jupyter notebook```, to open jupyter notebook as you see here."
   ]
  },
  {
   "cell_type": "markdown",
   "id": "8addc5ca",
   "metadata": {},
   "source": [
    "## Testing [TensorFlow](https://www.tensorflow.org/?gad=1&gclid=CjwKCAjwov6hBhBsEiwAvrvN6IebqKPk8JWr1YHar9X-h_exija938j1NlCOyxazKMlvRXoXhCKU-BoCmJQQAvD_BwE) environment"
   ]
  },
  {
   "cell_type": "markdown",
   "id": "6877f581",
   "metadata": {},
   "source": [
    "Here, we showcase how to classify hand-written digits using deep learning. These are the main steps:\n",
    "\n",
    "1. Load dataset\n",
    "2. Set model parameters and network structure\n",
    "3. Train the model\n",
    "4. Visulize accuracy assessment\n",
    "5. Model prediction"
   ]
  },
  {
   "cell_type": "markdown",
   "id": "6bbb8d9e",
   "metadata": {},
   "source": [
    "reference: https://github.com/AppliedMachineLearningNBI/AppliedML2021"
   ]
  },
  {
   "cell_type": "markdown",
   "id": "1c39d3d7",
   "metadata": {},
   "source": [
    "### Load libraries"
   ]
  },
  {
   "cell_type": "code",
   "execution_count": 1,
   "id": "0dbd14c0",
   "metadata": {},
   "outputs": [],
   "source": [
    "import tensorflow as tf\n",
    "from tensorflow.keras.layers import Flatten, Dense, Dropout, BatchNormalization\n",
    "from tensorflow.keras.optimizers import Adam, SGD"
   ]
  },
  {
   "cell_type": "markdown",
   "id": "3c443765",
   "metadata": {},
   "source": [
    "### Load datasets"
   ]
  },
  {
   "cell_type": "code",
   "execution_count": 2,
   "id": "5c9ce66e",
   "metadata": {},
   "outputs": [],
   "source": [
    "# load MNIST dataset to the location \"~/keras/mnist.npz\"\n",
    "(X_train, y_train), (X_val, y_val) = tf.keras.datasets.mnist.load_data(path='mnist.npz')"
   ]
  },
  {
   "cell_type": "markdown",
   "id": "5a4d0dc1",
   "metadata": {},
   "source": [
    "### Define network structure"
   ]
  },
  {
   "cell_type": "code",
   "execution_count": 3,
   "id": "292c7347",
   "metadata": {},
   "outputs": [
    {
     "name": "stdout",
     "output_type": "stream",
     "text": [
      "WARNING:tensorflow:From C:\\mambaforge\\envs\\tf_copy\\lib\\site-packages\\tensorflow_core\\python\\ops\\resource_variable_ops.py:1630: calling BaseResourceVariable.__init__ (from tensorflow.python.ops.resource_variable_ops) with constraint is deprecated and will be removed in a future version.\n",
      "Instructions for updating:\n",
      "If using Keras pass *_constraint arguments to layers.\n"
     ]
    }
   ],
   "source": [
    "# set up the network hyperparameters\n",
    "n_inputs = 28 * 28\n",
    "n_hidden1 = 300\n",
    "n_hidden2 = 100\n",
    "n_outputs = 10\n",
    "batch_norm_momentum = 0.9\n",
    "learning_rate = 0.001\n",
    "init = tf.keras.initializers.VarianceScaling(scale=1.0, mode='fan_in')\n",
    "centropy = tf.keras.losses.SparseCategoricalCrossentropy(from_logits=True)\n",
    "\n",
    "# network structure\n",
    "nn_reg = tf.keras.models.Sequential([\n",
    "  Flatten(input_shape=(28, 28)),\n",
    "  Dense(n_hidden1, activation='elu', kernel_initializer=init),\n",
    "  BatchNormalization(momentum=batch_norm_momentum, center=True, scale=True),\n",
    "  Dense(n_hidden2, activation='elu', kernel_initializer=init),\n",
    "  BatchNormalization(momentum=batch_norm_momentum, center=True, scale=True),\n",
    "  Dense(n_outputs, activation='elu', kernel_initializer=init),\n",
    "  BatchNormalization(momentum=batch_norm_momentum, center=True, scale=True)\n",
    "])\n",
    "\n",
    "nn_reg.compile(loss=centropy, optimizer=SGD(learning_rate), metrics=['accuracy'])"
   ]
  },
  {
   "cell_type": "markdown",
   "id": "ee154ae3",
   "metadata": {},
   "source": [
    "### Define additional parameters"
   ]
  },
  {
   "cell_type": "code",
   "execution_count": 4,
   "id": "10528389",
   "metadata": {},
   "outputs": [],
   "source": [
    "n_epochs = 3\n",
    "batch_size = 200"
   ]
  },
  {
   "cell_type": "markdown",
   "id": "caae98d0",
   "metadata": {},
   "source": [
    "### Train a model"
   ]
  },
  {
   "cell_type": "code",
   "execution_count": 5,
   "id": "d9bbd9e2",
   "metadata": {},
   "outputs": [
    {
     "name": "stdout",
     "output_type": "stream",
     "text": [
      "Train on 60000 samples, validate on 10000 samples\n",
      "Epoch 1/3\n",
      "60000/60000 [==============================] - 1s 22us/sample - loss: 1.3844 - acc: 0.5898 - val_loss: 0.9305 - val_acc: 0.7872\n",
      "Epoch 2/3\n",
      "60000/60000 [==============================] - 1s 16us/sample - loss: 0.8892 - acc: 0.8061 - val_loss: 0.7714 - val_acc: 0.8465\n",
      "Epoch 3/3\n",
      "60000/60000 [==============================] - 1s 17us/sample - loss: 0.7808 - acc: 0.8456 - val_loss: 0.6997 - val_acc: 0.8703\n"
     ]
    }
   ],
   "source": [
    "history = nn_reg.fit(X_train, y_train, epochs=n_epochs, batch_size=batch_size,\n",
    "                    validation_data=(X_val, y_val))"
   ]
  },
  {
   "cell_type": "markdown",
   "id": "514a8385",
   "metadata": {},
   "source": [
    "### Visualize the accuracy"
   ]
  },
  {
   "cell_type": "code",
   "execution_count": 6,
   "id": "40cf1fd3",
   "metadata": {},
   "outputs": [
    {
     "data": {
      "image/png": "[encoded data removed]",
      "text/plain": [
       "<Figure size 700x400 with 1 Axes>"
      ]
     },
     "metadata": {},
     "output_type": "display_data"
    }
   ],
   "source": [
    "import matplotlib.pyplot as plt\n",
    "import numpy as np\n",
    "fig, ax = plt.subplots(1, figsize=(7, 4))\n",
    "ax.plot(np.arange(n_epochs), history.history['acc'], 'ks-', label='train accuracy')\n",
    "ax.plot(np.arange(n_epochs), history.history['val_acc'], 'bs-', label='validation accuracy')\n",
    "ax.set_ylabel('accuracy')\n",
    "ax.set_xlabel('Epoch')\n",
    "ax.legend()\n",
    "plt.show()"
   ]
  },
  {
   "cell_type": "markdown",
   "id": "2d8a4724",
   "metadata": {},
   "source": [
    "### Check the predictions"
   ]
  },
  {
   "cell_type": "code",
   "execution_count": 7,
   "id": "372fcd8a",
   "metadata": {},
   "outputs": [
    {
     "data": {
      "text/plain": [
       "<Figure size 1000x1000 with 0 Axes>"
      ]
     },
     "metadata": {},
     "output_type": "display_data"
    },
    {
     "data": {
      "image/png": "[encoded data removed]",
      "text/plain": [
       "<Figure size 1000x200 with 20 Axes>"
      ]
     },
     "metadata": {},
     "output_type": "display_data"
    }
   ],
   "source": [
    "# here we take 10 digits from validation set and see network predictions for them\n",
    "preds = nn_reg.predict(X_val)\n",
    "n_digits = len(np.unique(y_val))\n",
    "n = X_val.shape[-1]\n",
    "\n",
    "plt.figure(figsize=(10,10))\n",
    "fig, axes = plt.subplots(2, n_digits, figsize=(10, 2),\n",
    "                         subplot_kw={'xticks':[], 'yticks':[]},\n",
    "                         gridspec_kw=dict(hspace=0.1, wspace=0.1))\n",
    "\n",
    "# get digits from validation set in ascending order\n",
    "n_images = 2 # image of a digit & weighting\n",
    "#images = np.zeros([n_images * n_digits, n * n])\n",
    "for i in range(n_digits):\n",
    "    img =  X_val[np.where(y_val == i)][0].reshape(-1)\n",
    "    loc = np.where(y_val == i)[0][0]\n",
    "    img_wht = preds[loc]\n",
    "    axes[0][i].imshow(img.reshape(n, n), cmap='binary', interpolation='nearest')\n",
    "    axes[1][i].bar(range(10), np.abs(img_wht))\n",
    "    axes[0][i].axis(\"off\")\n",
    "    axes[0][i].text(0.05, 0.05, i, transform=axes[0][i].transAxes, \n",
    "                    color='green')\n",
    "    axes[1][i].set_xticks([np.argmax(img_wht)])"
   ]
  },
  {
   "cell_type": "markdown",
   "id": "3b84cc4c",
   "metadata": {},
   "source": [
    "## Test PyTorch environment"
   ]
  },
  {
   "cell_type": "markdown",
   "id": "0d569cc7",
   "metadata": {},
   "source": [
    "Now, we move to the test of [PyTorch](https://pytorch.org/) environment, using a similar example."
   ]
  },
  {
   "cell_type": "markdown",
   "id": "8e5aa75b",
   "metadata": {},
   "source": [
    "Reference: \n",
    "\n",
    "https://blog.paperspace.com/training-validation-and-accuracy-in-pytorch/\n",
    " \n",
    "https://pytorch.org/tutorials/beginner/blitz/cifar10_tutorial.html"
   ]
  },
  {
   "cell_type": "markdown",
   "id": "511fdfcc",
   "metadata": {},
   "source": [
    "### Load python libraries"
   ]
  },
  {
   "cell_type": "code",
   "execution_count": 8,
   "id": "17aebbdb",
   "metadata": {},
   "outputs": [],
   "source": [
    "import torch\n",
    "import torch.nn as nn\n",
    "import torch.nn.functional as F\n",
    "from torch.optim import SGD\n",
    "from torchvision.datasets import CIFAR10\n",
    "from torchvision import transforms\n",
    "from torch.utils.data import Dataset, DataLoader\n",
    "import torchvision\n",
    "from tqdm import tqdm"
   ]
  },
  {
   "cell_type": "markdown",
   "id": "8a2a4c46",
   "metadata": {},
   "source": [
    "### Core functions for training, evaluating, and reporting accuracy"
   ]
  },
  {
   "cell_type": "code",
   "execution_count": 9,
   "id": "22c3f8a5",
   "metadata": {},
   "outputs": [],
   "source": [
    "def train(network, training_set, batch_size, optimizer, loss_function):\n",
    "    \"\"\"\n",
    "    This function optimizes the convnet weights\n",
    "    \"\"\"\n",
    "    #  creating list to hold loss per batch\n",
    "    loss_per_batch = []\n",
    "\n",
    "    #  defining dataloader\n",
    "    train_loader = DataLoader(training_set, batch_size)\n",
    "\n",
    "    #  iterating through batches\n",
    "    print('training...')\n",
    "    for images, labels in tqdm(train_loader):\n",
    "        #---------------------------\n",
    "        #  sending images to device\n",
    "        #---------------------------\n",
    "        images, labels = images.to(device), labels.to(device)\n",
    "\n",
    "        #-----------------------------\n",
    "        #  zeroing optimizer gradients\n",
    "        #-----------------------------\n",
    "        optimizer.zero_grad()\n",
    "\n",
    "        #-----------------------\n",
    "        #  classifying instances\n",
    "        #-----------------------\n",
    "        classifications = network(images)\n",
    "\n",
    "        #---------------------------------------------------\n",
    "        #  computing loss/how wrong our classifications are\n",
    "        #---------------------------------------------------\n",
    "        loss = loss_function(classifications, labels)\n",
    "        loss_per_batch.append(loss.item())\n",
    "\n",
    "        #------------------------------------------------------------\n",
    "        #  computing gradients/the direction that fits our objective\n",
    "        #------------------------------------------------------------\n",
    "        loss.backward()\n",
    "\n",
    "        #---------------------------------------------------\n",
    "        #  optimizing weights/slightly adjusting parameters\n",
    "        #---------------------------------------------------\n",
    "        optimizer.step()\n",
    "    print('all done!')\n",
    "\n",
    "    return loss_per_batch"
   ]
  },
  {
   "cell_type": "code",
   "execution_count": 10,
   "id": "b31ca44c",
   "metadata": {},
   "outputs": [],
   "source": [
    "def validate(network, validation_set, batch_size, loss_function):\n",
    "    \"\"\"\n",
    "    This function validates convnet parameter optimizations\n",
    "    \"\"\"\n",
    "    #  creating a list to hold loss per batch\n",
    "    loss_per_batch = []\n",
    "\n",
    "    #  defining model state\n",
    "    network.eval()\n",
    "\n",
    "    #  defining dataloader\n",
    "    val_loader = DataLoader(validation_set, batch_size)\n",
    "\n",
    "    print('validating...')\n",
    "    #  preventing gradient calculations since we will not be optimizing\n",
    "    with torch.no_grad():\n",
    "        #  iterating through batches\n",
    "        for images, labels in tqdm(val_loader):\n",
    "            #--------------------------------------\n",
    "            #  sending images and labels to device\n",
    "            #--------------------------------------\n",
    "            images, labels = images.to(device), labels.to(device)\n",
    "\n",
    "            #--------------------------\n",
    "            #  making classsifications\n",
    "            #--------------------------\n",
    "            classifications = network(images)\n",
    "\n",
    "            #-----------------\n",
    "            #  computing loss\n",
    "            #-----------------\n",
    "            loss = loss_function(classifications, labels)\n",
    "            loss_per_batch.append(loss.item())\n",
    "\n",
    "    print('all done!')\n",
    "\n",
    "    return loss_per_batch"
   ]
  },
  {
   "cell_type": "code",
   "execution_count": 11,
   "id": "223166a3",
   "metadata": {},
   "outputs": [],
   "source": [
    "def accuracy(network, dataset):\n",
    "    \"\"\"\n",
    "    This function computes accuracy\n",
    "    \"\"\"\n",
    "    #  setting model state\n",
    "    network.eval()\n",
    "\n",
    "    #  instantiating counters\n",
    "    total_correct = 0\n",
    "    total_instances = 0\n",
    "\n",
    "    #  creating dataloader\n",
    "    dataloader = DataLoader(dataset, 64)\n",
    "\n",
    "    #  iterating through batches\n",
    "    with torch.no_grad():\n",
    "        for images, labels in tqdm(dataloader):\n",
    "            images, labels = images.to(device), labels.to(device)\n",
    "\n",
    "            #-------------------------------------------------------------------------\n",
    "            #  making classifications and deriving indices of maximum value via argmax\n",
    "            #-------------------------------------------------------------------------\n",
    "            classifications = torch.argmax(network(images), dim=1)\n",
    "\n",
    "            #--------------------------------------------------\n",
    "            #  comparing indicies of maximum values and labels\n",
    "            #--------------------------------------------------\n",
    "            correct_predictions = sum(classifications==labels).item()\n",
    "\n",
    "            #------------------------\n",
    "            #  incrementing counters\n",
    "            #------------------------\n",
    "            total_correct+=correct_predictions\n",
    "            total_instances+=len(images)\n",
    "    return round(total_correct/total_instances, 3)"
   ]
  },
  {
   "cell_type": "markdown",
   "id": "017e1239",
   "metadata": {},
   "source": [
    "### Main parameters"
   ]
  },
  {
   "cell_type": "code",
   "execution_count": 12,
   "id": "16e2c70f",
   "metadata": {},
   "outputs": [],
   "source": [
    "n_epochs = 10  \n",
    "batch_size = 1000 "
   ]
  },
  {
   "cell_type": "code",
   "execution_count": 13,
   "id": "4a8ca152",
   "metadata": {},
   "outputs": [],
   "source": [
    "device = torch.device('cuda:0' if torch.cuda.is_available() else 'cpu')  # This time run on GPU"
   ]
  },
  {
   "cell_type": "markdown",
   "id": "56129365",
   "metadata": {},
   "source": [
    "### Load datasets"
   ]
  },
  {
   "cell_type": "code",
   "execution_count": 14,
   "id": "517eb680",
   "metadata": {},
   "outputs": [
    {
     "name": "stdout",
     "output_type": "stream",
     "text": [
      "Files already downloaded and verified\n",
      "Files already downloaded and verified\n"
     ]
    }
   ],
   "source": [
    "transform = transforms.Compose(\n",
    "    [transforms.ToTensor(),\n",
    "     transforms.Normalize((0.5, 0.5, 0.5), (0.5, 0.5, 0.5))])\n",
    "\n",
    "train_set = CIFAR10('./data', download=True, transform=transform, train=True)\n",
    "validation_set = CIFAR10(root='./data', download=True, transform=transform, train=False)"
   ]
  },
  {
   "cell_type": "markdown",
   "id": "c86babc1",
   "metadata": {},
   "source": [
    "### See some examples of the datasets"
   ]
  },
  {
   "cell_type": "code",
   "execution_count": 15,
   "id": "3e96f0d4",
   "metadata": {},
   "outputs": [
    {
     "data": {
      "image/png": "[encoded data removed]",
      "text/plain": [
       "<Figure size 640x480 with 1 Axes>"
      ]
     },
     "metadata": {},
     "output_type": "display_data"
    },
    {
     "name": "stdout",
     "output_type": "stream",
     "text": [
      "frog  truck truck deer \n"
     ]
    }
   ],
   "source": [
    "classes = ('plane', 'car', 'bird', 'cat',\n",
    "           'deer', 'dog', 'frog', 'horse', 'ship', 'truck')\n",
    "\n",
    "import matplotlib.pyplot as plt\n",
    "import numpy as np\n",
    "\n",
    "# functions to show an image\n",
    "\n",
    "\n",
    "def imshow(img):\n",
    "    img = img / 2 + 0.5     # unnormalize\n",
    "    npimg = img.numpy()\n",
    "    plt.imshow(np.transpose(npimg, (1, 2, 0)))\n",
    "    plt.show()\n",
    "\n",
    "\n",
    "# get some random training images\n",
    "dataiter = iter(DataLoader(train_set, 4))\n",
    "images, labels = next(dataiter)\n",
    "\n",
    "# show images\n",
    "imshow(torchvision.utils.make_grid(images))\n",
    "# print labels\n",
    "print(' '.join(f'{classes[labels[j]]:5s}' for j in range(4)))"
   ]
  },
  {
   "cell_type": "markdown",
   "id": "ebb6c4f5",
   "metadata": {},
   "source": [
    "### Define network structure"
   ]
  },
  {
   "cell_type": "code",
   "execution_count": 16,
   "id": "f55e60e3",
   "metadata": {},
   "outputs": [
    {
     "data": {
      "text/plain": [
       "Net(\n",
       "  (conv1): Conv2d(3, 6, kernel_size=(5, 5), stride=(1, 1))\n",
       "  (pool): MaxPool2d(kernel_size=2, stride=2, padding=0, dilation=1, ceil_mode=False)\n",
       "  (conv2): Conv2d(6, 16, kernel_size=(5, 5), stride=(1, 1))\n",
       "  (fc1): Linear(in_features=400, out_features=120, bias=True)\n",
       "  (fc2): Linear(in_features=120, out_features=84, bias=True)\n",
       "  (fc3): Linear(in_features=84, out_features=10, bias=True)\n",
       ")"
      ]
     },
     "execution_count": 16,
     "metadata": {},
     "output_type": "execute_result"
    }
   ],
   "source": [
    "class Net(nn.Module):\n",
    "    def __init__(self):\n",
    "        super().__init__()\n",
    "        self.conv1 = nn.Conv2d(3, 6, 5)\n",
    "        self.pool = nn.MaxPool2d(2, 2)\n",
    "        self.conv2 = nn.Conv2d(6, 16, 5)\n",
    "        self.fc1 = nn.Linear(16 * 5 * 5, 120)\n",
    "        self.fc2 = nn.Linear(120, 84)\n",
    "        self.fc3 = nn.Linear(84, 10)\n",
    "\n",
    "    def forward(self, x):\n",
    "        x = self.pool(F.relu(self.conv1(x)))\n",
    "        x = self.pool(F.relu(self.conv2(x)))\n",
    "        x = torch.flatten(x, 1) # flatten all dimensions except batch\n",
    "        x = F.relu(self.fc1(x))\n",
    "        x = F.relu(self.fc2(x))\n",
    "        x = self.fc3(x)\n",
    "        return x\n",
    "\n",
    "net = Net()\n",
    "net.to(device)"
   ]
  },
  {
   "cell_type": "markdown",
   "id": "86caf603",
   "metadata": {},
   "source": [
    "### Define optimizer"
   ]
  },
  {
   "cell_type": "code",
   "execution_count": 17,
   "id": "e0fc4b94",
   "metadata": {},
   "outputs": [],
   "source": [
    "optimizer = torch.optim.Adam(net.parameters(), lr=3e-4)"
   ]
  },
  {
   "cell_type": "markdown",
   "id": "0ca46354",
   "metadata": {},
   "source": [
    "### Define loss function"
   ]
  },
  {
   "cell_type": "code",
   "execution_count": 18,
   "id": "cbcecbdd",
   "metadata": {},
   "outputs": [],
   "source": [
    "loss_function=nn.CrossEntropyLoss()"
   ]
  },
  {
   "cell_type": "markdown",
   "id": "52ab0223",
   "metadata": {},
   "source": [
    "### Train and evaluate models"
   ]
  },
  {
   "cell_type": "code",
   "execution_count": 19,
   "id": "06e425a4",
   "metadata": {},
   "outputs": [
    {
     "name": "stdout",
     "output_type": "stream",
     "text": [
      "training...\n"
     ]
    },
    {
     "name": "stderr",
     "output_type": "stream",
     "text": [
      "100%|██████████████████████████████████████████████████████████████████████████████████| 50/50 [00:12<00:00,  3.95it/s]\n"
     ]
    },
    {
     "name": "stdout",
     "output_type": "stream",
     "text": [
      "all done!\n",
      "validating...\n"
     ]
    },
    {
     "name": "stderr",
     "output_type": "stream",
     "text": [
      "100%|██████████████████████████████████████████████████████████████████████████████████| 10/10 [00:02<00:00,  4.74it/s]\n"
     ]
    },
    {
     "name": "stdout",
     "output_type": "stream",
     "text": [
      "all done!\n"
     ]
    },
    {
     "name": "stderr",
     "output_type": "stream",
     "text": [
      "100%|████████████████████████████████████████████████████████████████████████████████| 782/782 [00:11<00:00, 70.08it/s]\n"
     ]
    },
    {
     "name": "stdout",
     "output_type": "stream",
     "text": [
      "training accuracy: 0.248\n"
     ]
    },
    {
     "name": "stderr",
     "output_type": "stream",
     "text": [
      "100%|████████████████████████████████████████████████████████████████████████████████| 157/157 [00:02<00:00, 72.07it/s]"
     ]
    },
    {
     "name": "stdout",
     "output_type": "stream",
     "text": [
      "validation accuracy: 0.251\n"
     ]
    },
    {
     "name": "stderr",
     "output_type": "stream",
     "text": [
      "\n"
     ]
    }
   ],
   "source": [
    "#  training/optimizing parameters\n",
    "training_losses = train(network=net, training_set=train_set, \n",
    "                        batch_size=batch_size, optimizer=optimizer, \n",
    "                        loss_function=loss_function)\n",
    "                        \n",
    "#  validating optimizations                        \n",
    "validation_losses = validate(network=net, validation_set=validation_set, \n",
    "                             batch_size=batch_size, loss_function=loss_function)\n",
    "\n",
    "#  deriving model accuracy on the traininig set\n",
    "training_accuracy = accuracy(net, train_set)\n",
    "print(f'training accuracy: {training_accuracy}')\n",
    "\n",
    "#  deriving model accuracy on the validation set\n",
    "validation_accuracy = accuracy(net, validation_set)\n",
    "print(f'validation accuracy: {validation_accuracy}')"
   ]
  },
  {
   "cell_type": "code",
   "execution_count": null,
   "id": "3e13f006",
   "metadata": {},
   "outputs": [],
   "source": []
  }
 ],
 "metadata": {
  "kernelspec": {
   "display_name": "Python 3 (ipykernel)",
   "language": "python",
   "name": "python3"
  },
  "language_info": {
   "codemirror_mode": {
    "name": "ipython",
    "version": 3
   },
   "file_extension": ".py",
   "mimetype": "text/x-python",
   "name": "python",
   "nbconvert_exporter": "python",
   "pygments_lexer": "ipython3",
   "version": "3.7.16"
  }
 },
 "nbformat": 4,
 "nbformat_minor": 5
}
